{
 "cells": [
  {
   "cell_type": "code",
   "execution_count": 3,
   "id": "d6f94cbc",
   "metadata": {
    "ExecuteTime": {
     "end_time": "2023-06-18T11:02:17.566081Z",
     "start_time": "2023-06-18T11:02:16.882879Z"
    }
   },
   "outputs": [],
   "source": [
    "import pandas as pd"
   ]
  },
  {
   "cell_type": "code",
   "execution_count": 4,
   "id": "619aebf5",
   "metadata": {
    "ExecuteTime": {
     "end_time": "2023-06-18T11:02:18.205556Z",
     "start_time": "2023-06-18T11:02:18.186046Z"
    }
   },
   "outputs": [
    {
     "name": "stdout",
     "output_type": "stream",
     "text": [
      "  name  age     sex\n",
      "A    a   11    male\n",
      "B    b   22    male\n",
      "C    c   33  female\n",
      "D    d   44  female\n",
      "E    f   55    male\n"
     ]
    }
   ],
   "source": [
    "age = [11,22,33,44,55]\n",
    "name = ['a','b','c','d','f']\n",
    "sex = ['male','male','female','female','male']\n",
    "df = pd.DataFrame({'name':name,'age':age,'sex':sex},index = ['A','B','C','D','E'])\n",
    "print(df)"
   ]
  },
  {
   "cell_type": "code",
   "execution_count": 22,
   "id": "b20db2f5",
   "metadata": {
    "ExecuteTime": {
     "end_time": "2023-06-15T03:10:24.978802Z",
     "start_time": "2023-06-15T03:10:24.958741Z"
    }
   },
   "outputs": [
    {
     "name": "stdout",
     "output_type": "stream",
     "text": [
      "  name     sex\n",
      "B    b    male\n",
      "C    c  female\n",
      "D    d  female\n"
     ]
    }
   ],
   "source": [
    "print(df.loc['B':'D', ['name', 'sex']])"
   ]
  },
  {
   "cell_type": "code",
   "execution_count": 21,
   "id": "e79f9540",
   "metadata": {
    "ExecuteTime": {
     "end_time": "2023-06-15T03:10:10.208089Z",
     "start_time": "2023-06-15T03:10:10.188076Z"
    }
   },
   "outputs": [
    {
     "name": "stdout",
     "output_type": "stream",
     "text": [
      "  name     sex\n",
      "C    c  female\n",
      "D    d  female\n"
     ]
    }
   ],
   "source": [
    "print(df.iloc[2:4,[0,2]])"
   ]
  },
  {
   "cell_type": "code",
   "execution_count": 31,
   "id": "9848682a",
   "metadata": {
    "ExecuteTime": {
     "end_time": "2023-06-15T03:28:48.528889Z",
     "start_time": "2023-06-15T03:28:48.508841Z"
    }
   },
   "outputs": [
    {
     "data": {
      "text/plain": [
       "A    False\n",
       "B     True\n",
       "C     True\n",
       "D     True\n",
       "E     True\n",
       "Name: age, dtype: bool"
      ]
     },
     "execution_count": 31,
     "metadata": {},
     "output_type": "execute_result"
    }
   ],
   "source": [
    "df.loc[:,'age'] > 20"
   ]
  },
  {
   "cell_type": "code",
   "execution_count": 37,
   "id": "a8d538c4",
   "metadata": {
    "ExecuteTime": {
     "end_time": "2023-06-15T03:37:26.949665Z",
     "start_time": "2023-06-15T03:37:26.929584Z"
    }
   },
   "outputs": [
    {
     "name": "stdout",
     "output_type": "stream",
     "text": [
      "  name  age     sex\n",
      "D    d   44  female\n",
      "E    f   55    male\n"
     ]
    }
   ],
   "source": [
    "print(df.loc[df.loc[:,'age'] > 40])"
   ]
  },
  {
   "cell_type": "code",
   "execution_count": 34,
   "id": "1a7ddd74",
   "metadata": {
    "ExecuteTime": {
     "end_time": "2023-06-15T03:32:41.505267Z",
     "start_time": "2023-06-15T03:32:41.494264Z"
    }
   },
   "outputs": [
    {
     "data": {
      "text/html": [
       "<div>\n",
       "<style scoped>\n",
       "    .dataframe tbody tr th:only-of-type {\n",
       "        vertical-align: middle;\n",
       "    }\n",
       "\n",
       "    .dataframe tbody tr th {\n",
       "        vertical-align: top;\n",
       "    }\n",
       "\n",
       "    .dataframe thead th {\n",
       "        text-align: right;\n",
       "    }\n",
       "</style>\n",
       "<table border=\"1\" class=\"dataframe\">\n",
       "  <thead>\n",
       "    <tr style=\"text-align: right;\">\n",
       "      <th></th>\n",
       "      <th>name</th>\n",
       "      <th>age</th>\n",
       "      <th>sex</th>\n",
       "    </tr>\n",
       "  </thead>\n",
       "  <tbody>\n",
       "    <tr>\n",
       "      <th>B</th>\n",
       "      <td>b</td>\n",
       "      <td>22</td>\n",
       "      <td>male</td>\n",
       "    </tr>\n",
       "    <tr>\n",
       "      <th>C</th>\n",
       "      <td>c</td>\n",
       "      <td>33</td>\n",
       "      <td>female</td>\n",
       "    </tr>\n",
       "    <tr>\n",
       "      <th>D</th>\n",
       "      <td>d</td>\n",
       "      <td>44</td>\n",
       "      <td>female</td>\n",
       "    </tr>\n",
       "    <tr>\n",
       "      <th>E</th>\n",
       "      <td>f</td>\n",
       "      <td>55</td>\n",
       "      <td>male</td>\n",
       "    </tr>\n",
       "  </tbody>\n",
       "</table>\n",
       "</div>"
      ],
      "text/plain": [
       "  name  age     sex\n",
       "B    b   22    male\n",
       "C    c   33  female\n",
       "D    d   44  female\n",
       "E    f   55    male"
      ]
     },
     "execution_count": 34,
     "metadata": {},
     "output_type": "execute_result"
    }
   ],
   "source": [
    "df[df.loc[:,'age'] > 20]"
   ]
  },
  {
   "cell_type": "code",
   "execution_count": 45,
   "id": "be8d0291",
   "metadata": {
    "ExecuteTime": {
     "end_time": "2023-06-15T12:55:44.877906Z",
     "start_time": "2023-06-15T12:55:44.859942Z"
    }
   },
   "outputs": [
    {
     "data": {
      "text/html": [
       "<div>\n",
       "<style scoped>\n",
       "    .dataframe tbody tr th:only-of-type {\n",
       "        vertical-align: middle;\n",
       "    }\n",
       "\n",
       "    .dataframe tbody tr th {\n",
       "        vertical-align: top;\n",
       "    }\n",
       "\n",
       "    .dataframe thead th {\n",
       "        text-align: right;\n",
       "    }\n",
       "</style>\n",
       "<table border=\"1\" class=\"dataframe\">\n",
       "  <thead>\n",
       "    <tr style=\"text-align: right;\">\n",
       "      <th></th>\n",
       "      <th>name</th>\n",
       "      <th>age</th>\n",
       "      <th>sex</th>\n",
       "    </tr>\n",
       "  </thead>\n",
       "  <tbody>\n",
       "    <tr>\n",
       "      <th>A</th>\n",
       "      <td>a</td>\n",
       "      <td>11</td>\n",
       "      <td>male</td>\n",
       "    </tr>\n",
       "    <tr>\n",
       "      <th>B</th>\n",
       "      <td>b</td>\n",
       "      <td>22</td>\n",
       "      <td>male</td>\n",
       "    </tr>\n",
       "    <tr>\n",
       "      <th>C</th>\n",
       "      <td>c</td>\n",
       "      <td>33</td>\n",
       "      <td>female</td>\n",
       "    </tr>\n",
       "    <tr>\n",
       "      <th>D</th>\n",
       "      <td>d</td>\n",
       "      <td>44</td>\n",
       "      <td>female</td>\n",
       "    </tr>\n",
       "    <tr>\n",
       "      <th>E</th>\n",
       "      <td>f</td>\n",
       "      <td>55</td>\n",
       "      <td>male</td>\n",
       "    </tr>\n",
       "  </tbody>\n",
       "</table>\n",
       "</div>"
      ],
      "text/plain": [
       "  name  age     sex\n",
       "A    a   11    male\n",
       "B    b   22    male\n",
       "C    c   33  female\n",
       "D    d   44  female\n",
       "E    f   55    male"
      ]
     },
     "execution_count": 45,
     "metadata": {},
     "output_type": "execute_result"
    }
   ],
   "source": [
    "df"
   ]
  },
  {
   "cell_type": "code",
   "execution_count": 49,
   "id": "766fde96",
   "metadata": {
    "ExecuteTime": {
     "end_time": "2023-06-15T12:57:35.805546Z",
     "start_time": "2023-06-15T12:57:35.796575Z"
    }
   },
   "outputs": [
    {
     "data": {
      "text/plain": [
       "pandas.core.indexes.base.Index"
      ]
     },
     "execution_count": 49,
     "metadata": {},
     "output_type": "execute_result"
    }
   ],
   "source": [
    "type(df.index)"
   ]
  },
  {
   "cell_type": "code",
   "execution_count": 51,
   "id": "d1f8a823",
   "metadata": {
    "ExecuteTime": {
     "end_time": "2023-06-15T12:57:45.627281Z",
     "start_time": "2023-06-15T12:57:45.611295Z"
    }
   },
   "outputs": [
    {
     "data": {
      "text/plain": [
       "Index(['A', 'B', 'C', 'D', 'E'], dtype='object')"
      ]
     },
     "execution_count": 51,
     "metadata": {},
     "output_type": "execute_result"
    }
   ],
   "source": [
    "df.index"
   ]
  },
  {
   "cell_type": "code",
   "execution_count": 13,
   "id": "8cd223c7",
   "metadata": {
    "ExecuteTime": {
     "end_time": "2023-06-18T11:08:23.841950Z",
     "start_time": "2023-06-18T11:08:23.832950Z"
    }
   },
   "outputs": [
    {
     "data": {
      "text/plain": [
       "Index(['A', 'B', 'E'], dtype='object')"
      ]
     },
     "execution_count": 13,
     "metadata": {},
     "output_type": "execute_result"
    }
   ],
   "source": [
    "df.index[df.loc[:,'sex'] == 'male']"
   ]
  },
  {
   "cell_type": "code",
   "execution_count": 17,
   "id": "704cc5f1",
   "metadata": {
    "ExecuteTime": {
     "end_time": "2023-06-18T11:12:59.216937Z",
     "start_time": "2023-06-18T11:12:59.204914Z"
    }
   },
   "outputs": [
    {
     "data": {
      "text/html": [
       "<div>\n",
       "<style scoped>\n",
       "    .dataframe tbody tr th:only-of-type {\n",
       "        vertical-align: middle;\n",
       "    }\n",
       "\n",
       "    .dataframe tbody tr th {\n",
       "        vertical-align: top;\n",
       "    }\n",
       "\n",
       "    .dataframe thead th {\n",
       "        text-align: right;\n",
       "    }\n",
       "</style>\n",
       "<table border=\"1\" class=\"dataframe\">\n",
       "  <thead>\n",
       "    <tr style=\"text-align: right;\">\n",
       "      <th></th>\n",
       "      <th>age</th>\n",
       "      <th>sex</th>\n",
       "    </tr>\n",
       "  </thead>\n",
       "  <tbody>\n",
       "    <tr>\n",
       "      <th>A</th>\n",
       "      <td>11</td>\n",
       "      <td>male</td>\n",
       "    </tr>\n",
       "    <tr>\n",
       "      <th>B</th>\n",
       "      <td>22</td>\n",
       "      <td>male</td>\n",
       "    </tr>\n",
       "    <tr>\n",
       "      <th>C</th>\n",
       "      <td>33</td>\n",
       "      <td>female</td>\n",
       "    </tr>\n",
       "    <tr>\n",
       "      <th>D</th>\n",
       "      <td>44</td>\n",
       "      <td>female</td>\n",
       "    </tr>\n",
       "    <tr>\n",
       "      <th>E</th>\n",
       "      <td>55</td>\n",
       "      <td>male</td>\n",
       "    </tr>\n",
       "  </tbody>\n",
       "</table>\n",
       "</div>"
      ],
      "text/plain": [
       "   age     sex\n",
       "A   11    male\n",
       "B   22    male\n",
       "C   33  female\n",
       "D   44  female\n",
       "E   55    male"
      ]
     },
     "execution_count": 17,
     "metadata": {},
     "output_type": "execute_result"
    }
   ],
   "source": [
    "df = df.drop(df.columns[df.loc['A',:] == 'a'],axis = 1)\n",
    "df"
   ]
  },
  {
   "cell_type": "code",
   "execution_count": 18,
   "id": "aa153cce",
   "metadata": {
    "ExecuteTime": {
     "end_time": "2023-06-18T11:55:26.219976Z",
     "start_time": "2023-06-18T11:55:24.657220Z"
    }
   },
   "outputs": [],
   "source": [
    "import numpy as np\n",
    "import pandas as pd\n",
    "import sklearn\n",
    "import matplotlib as mlp\n",
    "import seaborn as sns\n",
    "import re,pip,conda"
   ]
  },
  {
   "cell_type": "code",
   "execution_count": 19,
   "id": "3cbfc3ca",
   "metadata": {
    "ExecuteTime": {
     "end_time": "2023-06-18T11:56:33.864135Z",
     "start_time": "2023-06-18T11:56:33.846184Z"
    }
   },
   "outputs": [
    {
     "name": "stdout",
     "output_type": "stream",
     "text": [
      "sklearn 0.24.2\n",
      "matplotlib 3.3.4\n",
      "numpy 1.19.2\n",
      "pandas 1.1.5\n",
      "seaborn 0.8.1\n",
      "pip 21.1.1\n",
      "conda 4.10.3\n"
     ]
    }
   ],
   "source": [
    "for package in [sklearn,mlp,np,pd,sns,pip,conda]:\n",
    "    print(re.findall(\"([^']*)\" ,str(package))[2],package.__version__)"
   ]
  },
  {
   "cell_type": "code",
   "execution_count": null,
   "id": "acbb4065",
   "metadata": {},
   "outputs": [],
   "source": []
  }
 ],
 "metadata": {
  "kernelspec": {
   "display_name": "Python [conda env:root] *",
   "language": "python",
   "name": "conda-root-py"
  },
  "language_info": {
   "codemirror_mode": {
    "name": "ipython",
    "version": 3
   },
   "file_extension": ".py",
   "mimetype": "text/x-python",
   "name": "python",
   "nbconvert_exporter": "python",
   "pygments_lexer": "ipython3",
   "version": "3.6.5"
  }
 },
 "nbformat": 4,
 "nbformat_minor": 5
}
